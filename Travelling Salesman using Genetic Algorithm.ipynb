{
 "cells": [
  {
   "cell_type": "code",
   "execution_count": 41,
   "metadata": {},
   "outputs": [],
   "source": [
    "import numpy as np\n",
    "import matplotlib.pyplot as plt"
   ]
  },
  {
   "cell_type": "code",
   "execution_count": 42,
   "metadata": {},
   "outputs": [],
   "source": [
    "N_CITIES = 20  # DNA size\n",
    "CROSS_RATE = 0.1\n",
    "MUTATE_RATE = 0.02\n",
    "POP_SIZE = 500\n",
    "N_GENERATIONS = 500"
   ]
  },
  {
   "cell_type": "code",
   "execution_count": 43,
   "metadata": {},
   "outputs": [
    {
     "name": "stdout",
     "output_type": "stream",
     "text": [
      "mkdir: utils: File exists\r\n"
     ]
    }
   ],
   "source": [
    "%mkdir utils"
   ]
  },
  {
   "cell_type": "code",
   "execution_count": 44,
   "metadata": {},
   "outputs": [
    {
     "name": "stdout",
     "output_type": "stream",
     "text": [
      "Overwriting ./utils/genetic_algorithm.py\n"
     ]
    }
   ],
   "source": [
    "%%writefile ./utils/genetic_algorithm.py\n",
    "\n",
    "import numpy as np\n",
    "import matplotlib.pyplot as plt\n",
    "\n",
    "class GA(object):\n",
    "    def __init__(self, DNA_size, cross_rate, mutation_rate, pop_size, ):\n",
    "        self.DNA_size = DNA_size\n",
    "        self.cross_rate = cross_rate\n",
    "        self.mutate_rate = mutation_rate\n",
    "        self.pop_size = pop_size\n",
    "        np.random.shuffle(arr := np.stack([np.random.permutation(DNA_size) for _ in range(pop_size)]))\n",
    "        self.pop = arr\n",
    "        \n",
    "    def translateDNA(self, DNA, city_position):     # get cities' coord in order\n",
    "        line_x = np.empty_like(DNA, dtype=np.float64)\n",
    "        line_y = np.empty_like(DNA, dtype=np.float64)\n",
    "        for i, d in enumerate(DNA):\n",
    "            city_coord = city_position[d]\n",
    "            line_x[i, :] = city_coord[:, 0]\n",
    "            line_y[i, :] = city_coord[:, 1]\n",
    "        return line_x, line_y\n",
    "\n",
    "    def get_fitness(self, line_x, line_y):\n",
    "        total_distance = np.empty((line_x.shape[0],), dtype=np.float64)\n",
    "        for i, (xs, ys) in enumerate(zip(line_x, line_y)):\n",
    "            total_distance[i] = np.sum(np.sqrt(np.square(np.diff(xs)) + np.square(np.diff(ys))))\n",
    "        fitness = np.exp(self.DNA_size * 2 / total_distance)\n",
    "        return fitness, total_distance\n",
    "\n",
    "    def select(self, fitness):\n",
    "        idx = np.random.choice(np.arange(self.pop_size), size=self.pop_size, replace=True, p=fitness / fitness.sum())\n",
    "        return self.pop[idx]\n",
    "\n",
    "    def crossover(self, parent, pop):\n",
    "        if np.random.rand() < self.cross_rate:\n",
    "            i_ = np.random.randint(0, self.pop_size, size=1)                        # select another individual from population\n",
    "            cross_points = np.random.randint(0, 2, self.DNA_size).astype(np.bool)   # choose crossover points\n",
    "            keep_city = parent[~cross_points]                                       # find the city number\n",
    "            swap_city = pop[i_, np.isin(pop[i_].ravel(), keep_city, invert=True)]\n",
    "            parent[:] = np.concatenate((keep_city, swap_city))\n",
    "        return parent\n",
    "\n",
    "    def mutate(self, child):\n",
    "        for point in range(self.DNA_size):\n",
    "            if np.random.rand() < self.mutate_rate:\n",
    "                swap_point = np.random.randint(0, self.DNA_size)\n",
    "                swapA, swapB = child[point], child[swap_point]\n",
    "                child[point], child[swap_point] = swapB, swapA\n",
    "        return child\n",
    "\n",
    "    def evolve(self, fitness):\n",
    "        pop = self.select(fitness)\n",
    "        pop_copy = pop.copy()\n",
    "        for parent in pop:  # for every parent\n",
    "            child = self.crossover(parent, pop_copy)\n",
    "            child = self.mutate(child)\n",
    "            parent[:] = child\n",
    "        self.pop = pop\n",
    "\n",
    "\n",
    "class TravelSalesPerson(object):\n",
    "    def __init__(self, n_cities):\n",
    "        self.city_position = np.random.rand(n_cities, 2)\n",
    "        plt.ion()\n",
    "\n",
    "    def plotting(self, lx, ly, total_d):\n",
    "        plt.cla()\n",
    "        plt.scatter(self.city_position[:, 0].T, self.city_position[:, 1].T, s=100, c='k')\n",
    "        plt.plot(lx.T, ly.T, 'r-')\n",
    "        plt.text(-0.05, -0.05, \"Total distance=%.2f\" % total_d, fontdict={'size': 20, 'color': 'red'})\n",
    "        plt.xlim((-0.1, 1.1))\n",
    "        plt.ylim((-0.1, 1.1))\n",
    "        plt.pause(0.01)"
   ]
  },
  {
   "cell_type": "code",
   "execution_count": 45,
   "metadata": {},
   "outputs": [],
   "source": [
    "from utils.genetic_algorithm import *\n",
    "ga = GA(DNA_size=N_CITIES, cross_rate=CROSS_RATE, mutation_rate=MUTATE_RATE, pop_size=POP_SIZE)\n",
    "\n",
    "env = TravelSalesPerson(N_CITIES)"
   ]
  },
  {
   "cell_type": "code",
   "execution_count": 46,
   "metadata": {},
   "outputs": [
    {
     "name": "stdout",
     "output_type": "stream",
     "text": [
      "Gen: 499 | best fit: 70212.45\n"
     ]
    },
    {
     "data": {
      "image/png": "[encoded data removed]",
      "text/plain": [
       "<Figure size 432x288 with 1 Axes>"
      ]
     },
     "metadata": {
      "needs_background": "light"
     },
     "output_type": "display_data"
    }
   ],
   "source": [
    "from IPython.display import display, clear_output\n",
    "import time\n",
    "for generation in range(N_GENERATIONS):\n",
    "    lx, ly = ga.translateDNA(ga.pop, env.city_position)\n",
    "    fitness, total_distance = ga.get_fitness(lx, ly)\n",
    "    ga.evolve(fitness)\n",
    "    best_idx = np.argmax(fitness)\n",
    "    print('Gen:', generation, '| best fit: %.2f' % fitness[best_idx],)\n",
    "\n",
    "#     env.plotting(lx[best_idx], ly[best_idx], total_distance[best_idx])\n",
    "    clear_output(wait=True)\n",
    "#     time.sleep(0.01)\n",
    "\n",
    "print('Gen:', generation, '| best fit: %.2f' % fitness[best_idx],)\n",
    "env.plotting(lx[best_idx], ly[best_idx], total_distance[best_idx])"
   ]
  }
 ],
 "metadata": {
  "kernelspec": {
   "display_name": "Python 3",
   "language": "python",
   "name": "python3"
  },
  "language_info": {
   "codemirror_mode": {
    "name": "ipython",
    "version": 3
   },
   "file_extension": ".py",
   "mimetype": "text/x-python",
   "name": "python",
   "nbconvert_exporter": "python",
   "pygments_lexer": "ipython3",
   "version": "3.8.0"
  }
 },
 "nbformat": 4,
 "nbformat_minor": 2
}
